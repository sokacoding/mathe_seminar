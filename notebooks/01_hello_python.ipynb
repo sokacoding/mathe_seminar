{
 "cells": [
  {
   "cell_type": "markdown",
   "metadata": {},
   "source": [
    "# Einführung in Python 🐍\n",
    "\n",
    "In diesem Notebook lernst du die Grundlagen von Python:\n",
    "\n",
    "- Variablen und Datentypen\n",
    "- Rechnen mit Python\n",
    "- Funktionen definieren\n",
    "- Erste grafische Ausgabe"
   ]
  },
  {
   "cell_type": "code",
   "execution_count": null,
   "metadata": {},
   "outputs": [],
   "source": [
    "# Variablen\n",
    "x = 5\n",
    "name = \"Anna\"\n",
    "pi = 3.14159\n",
    "aktiv = True"
   ]
  },
  {
   "cell_type": "code",
   "execution_count": null,
   "metadata": {},
   "outputs": [],
   "source": [
    "# Ausgabe\n",
    "print(\"Hello World!\")\n",
    "print(\"Der Name ist:\", name)"
   ]
  },
  {
   "cell_type": "code",
   "execution_count": null,
   "metadata": {},
   "outputs": [],
   "source": [
    "# Rechnen\n",
    "a = 3\n",
    "b = 7\n",
    "c = a * b + 2\n",
    "print(\"Ergebnis:\", c)"
   ]
  },
  {
   "cell_type": "code",
   "execution_count": null,
   "metadata": {},
   "outputs": [],
   "source": [
    "# Funktion definieren\n",
    "def begruessung(name):\n",
    "    return \"Hallo \" + name\n",
    "\n",
    "begruessung(\"Lisa\")"
   ]
  },
  {
   "cell_type": "code",
   "execution_count": null,
   "metadata": {},
   "outputs": [],
   "source": [
    "# Mathematische Operation mit numpy\n",
    "import numpy as np\n",
    "zahlen = np.array([1, 2, 3, 4])\n",
    "print(zahlen * 2)"
   ]
  },
  {
   "cell_type": "code",
   "execution_count": null,
   "metadata": {},
   "outputs": [],
   "source": [
    "# Einfacher Plot\n",
    "import matplotlib.pyplot as plt\n",
    "x = np.linspace(0, 2*np.pi, 100)\n",
    "y = np.sin(x)\n",
    "plt.plot(x, y)\n",
    "plt.title(\"Sinusfunktion\")\n",
    "plt.xlabel(\"x\")\n",
    "plt.ylabel(\"sin(x)\")\n",
    "plt.grid(True)\n",
    "plt.show()"
   ]
  }
 ],
 "metadata": {
  "kernelspec": {
   "display_name": "Python 3",
   "language": "python",
   "name": "python3"
  },
  "language_info": {
   "name": "python",
   "version": "3.11"
  }
 },
 "nbformat": 4,
 "nbformat_minor": 5
}
